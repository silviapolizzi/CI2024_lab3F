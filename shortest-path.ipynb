{
 "cells": [
  {
   "cell_type": "markdown",
   "metadata": {
    "vscode": {
     "languageId": "plaintext"
    }
   },
   "source": [
    "Copyright **`(c)`** 2024 Giovanni Squillero `<giovanni.squillero@polito.it>`  \n",
    "[`https://github.com/squillero/computational-intelligence`](https://github.com/squillero/computational-intelligence)  \n",
    "Free under certain conditions — see the [`license`](https://github.com/squillero/computational-intelligence/blob/master/LICENSE.md) for details.  "
   ]
  },
  {
   "cell_type": "code",
   "execution_count": 3,
   "metadata": {},
   "outputs": [],
   "source": [
    "import logging\n",
    "from itertools import combinations\n",
    "import pandas as pd\n",
    "import numpy as np\n",
    "from geopy.distance import geodesic\n",
    "import networkx as nx\n",
    "\n",
    "from icecream import ic\n",
    "\n",
    "logging.basicConfig(level=logging.DEBUG)"
   ]
  },
  {
   "cell_type": "code",
   "execution_count": 7,
   "metadata": {},
   "outputs": [
    {
     "data": {
      "text/html": [
       "<div>\n",
       "<style scoped>\n",
       "    .dataframe tbody tr th:only-of-type {\n",
       "        vertical-align: middle;\n",
       "    }\n",
       "\n",
       "    .dataframe tbody tr th {\n",
       "        vertical-align: top;\n",
       "    }\n",
       "\n",
       "    .dataframe thead th {\n",
       "        text-align: right;\n",
       "    }\n",
       "</style>\n",
       "<table border=\"1\" class=\"dataframe\">\n",
       "  <thead>\n",
       "    <tr style=\"text-align: right;\">\n",
       "      <th></th>\n",
       "      <th>name</th>\n",
       "      <th>lat</th>\n",
       "      <th>lon</th>\n",
       "    </tr>\n",
       "  </thead>\n",
       "  <tbody>\n",
       "    <tr>\n",
       "      <th>0</th>\n",
       "      <td>Ancona</td>\n",
       "      <td>43.60</td>\n",
       "      <td>13.50</td>\n",
       "    </tr>\n",
       "    <tr>\n",
       "      <th>1</th>\n",
       "      <td>Andria</td>\n",
       "      <td>41.23</td>\n",
       "      <td>16.29</td>\n",
       "    </tr>\n",
       "    <tr>\n",
       "      <th>2</th>\n",
       "      <td>Bari</td>\n",
       "      <td>41.12</td>\n",
       "      <td>16.87</td>\n",
       "    </tr>\n",
       "    <tr>\n",
       "      <th>3</th>\n",
       "      <td>Bergamo</td>\n",
       "      <td>45.70</td>\n",
       "      <td>9.67</td>\n",
       "    </tr>\n",
       "    <tr>\n",
       "      <th>4</th>\n",
       "      <td>Bologna</td>\n",
       "      <td>44.50</td>\n",
       "      <td>11.34</td>\n",
       "    </tr>\n",
       "  </tbody>\n",
       "</table>\n",
       "</div>"
      ],
      "text/plain": [
       "      name    lat    lon\n",
       "0   Ancona  43.60  13.50\n",
       "1   Andria  41.23  16.29\n",
       "2     Bari  41.12  16.87\n",
       "3  Bergamo  45.70   9.67\n",
       "4  Bologna  44.50  11.34"
      ]
     },
     "execution_count": 7,
     "metadata": {},
     "output_type": "execute_result"
    }
   ],
   "source": [
    "CITIES = pd.read_csv('cities/italy.csv', header=None, names=['name', 'lat', 'lon'])\n",
    "DIST_MATRIX = np.zeros((len(CITIES), len(CITIES)))\n",
    "for c1, c2 in combinations(CITIES.itertuples(), 2):\n",
    "    DIST_MATRIX[c1.Index, c2.Index] = DIST_MATRIX[c2.Index, c1.Index] = geodesic(\n",
    "        (c1.lat, c1.lon), (c2.lat, c2.lon)\n",
    "    ).km\n",
    "CITIES.head()"
   ]
  },
  {
   "cell_type": "markdown",
   "metadata": {},
   "source": [
    "## Lab3"
   ]
  },
  {
   "cell_type": "code",
   "execution_count": 8,
   "metadata": {},
   "outputs": [
    {
     "name": "stderr",
     "output_type": "stream",
     "text": [
      "ic| median: np.float64(367.0694334013403)\n"
     ]
    },
    {
     "data": {
      "text/plain": [
       "True"
      ]
     },
     "execution_count": 8,
     "metadata": {},
     "output_type": "execute_result"
    }
   ],
   "source": [
    "median = np.median(DIST_MATRIX.reshape(1, -1))\n",
    "ic(median)\n",
    "# DIST_MATRIX[DIST_MATRIX > median] = np.inf\n",
    "G = nx.Graph()\n",
    "for c1, c2 in combinations(CITIES.itertuples(), 2):\n",
    "    G.add_node(c1)\n",
    "    G.add_node(c2)\n",
    "    if DIST_MATRIX[c1.Index, c2.Index] <= median:\n",
    "        G.add_edge(c1, c2)\n",
    "nx.is_connected(G)"
   ]
  },
  {
   "cell_type": "markdown",
   "metadata": {},
   "source": [
    "## Greedy algorithm"
   ]
  },
  {
   "cell_type": "code",
   "execution_count": 9,
   "metadata": {},
   "outputs": [
    {
     "name": "stdout",
     "output_type": "stream",
     "text": [
      "Greedy path from Syracuse to Pescara is 3189.61 km\n",
      "Path: Syracuse -> Catania -> Reggio di Calabria -> Messina -> Palermo -> Salerno -> Naples -> Giugliano in Campania -> Latina -> Rome -> Terni -> Perugia -> Ancona -> Rimini -> Forlì -> Ravenna -> Ferrara -> Bologna -> Modena -> Reggio nell'Emilia -> Parma -> Piacenza -> Milan -> Monza -> Bergamo -> Brescia -> Verona -> Vicenza -> Padua -> Venice -> Trieste -> Bolzano -> Trento -> Novara -> Turin -> Genoa -> Leghorn -> Prato -> Florence -> Pescara\n"
     ]
    }
   ],
   "source": [
    "from itertools import combinations\n",
    "import random\n",
    "\n",
    "# Assuming CITIES and DIST_MATRIX have been initialized as per your setup\n",
    "\n",
    "def greedy_best_first_search(dist_matrix, start_index, end_index):\n",
    "    current_index = start_index\n",
    "    path = [current_index]\n",
    "    total_distance = 0\n",
    "    \n",
    "    while current_index != end_index:\n",
    "        # Find the closest unvisited city to the destination\n",
    "        min_distance = float('inf')\n",
    "        next_city = None\n",
    "        for i in range(len(dist_matrix)):\n",
    "            if i not in path and dist_matrix[current_index, i] < min_distance and i != current_index:\n",
    "                min_distance = dist_matrix[current_index, i]\n",
    "                next_city = i\n",
    "        \n",
    "        # If no next city is found (in case of isolated nodes), break\n",
    "        if next_city is None:\n",
    "            break\n",
    "        \n",
    "        path.append(next_city)\n",
    "        total_distance += min_distance\n",
    "        current_index = next_city\n",
    "    \n",
    "    return path, total_distance\n",
    "\n",
    "# Select random start and end cities\n",
    "num_cities = len(CITIES)\n",
    "start_city_index = random.randint(0, num_cities - 1)\n",
    "end_city_index = random.randint(0, num_cities - 1)\n",
    "\n",
    "# Run the Greedy Best-First Search\n",
    "path, total_distance = greedy_best_first_search(DIST_MATRIX, start_city_index, end_city_index)\n",
    "\n",
    "# Display the results\n",
    "start_city = CITIES.iloc[start_city_index]['name']\n",
    "end_city = CITIES.iloc[end_city_index]['name']\n",
    "print(f\"Greedy path from {start_city} to {end_city} is {total_distance:.2f} km\")\n",
    "print(\"Path:\", \" -> \".join(CITIES.iloc[i]['name'] for i in path))\n"
   ]
  }
 ],
 "metadata": {
  "kernelspec": {
   "display_name": "venv",
   "language": "python",
   "name": "python3"
  },
  "language_info": {
   "codemirror_mode": {
    "name": "ipython",
    "version": 3
   },
   "file_extension": ".py",
   "mimetype": "text/x-python",
   "name": "python",
   "nbconvert_exporter": "python",
   "pygments_lexer": "ipython3",
   "version": "3.12.3"
  }
 },
 "nbformat": 4,
 "nbformat_minor": 2
}
